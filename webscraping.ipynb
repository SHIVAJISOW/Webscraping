{
 "cells": [
  {
   "cell_type": "code",
   "execution_count": 39,
   "id": "167edf7f-c5c6-466c-a201-39aca439c078",
   "metadata": {},
   "outputs": [],
   "source": [
    "import requests\n",
    "from bs4 import BeautifulSoup as bs\n",
    "from urllib.request import urlopen \n",
    "\n",
    "import logging"
   ]
  },
  {
   "cell_type": "code",
   "execution_count": 55,
   "id": "29168dc0-d78e-40b2-9668-d04812bc9ab5",
   "metadata": {},
   "outputs": [],
   "source": [
    "logging.basicConfig(filename = \"webscrap.log\", level=logging.DEBUG)"
   ]
  },
  {
   "cell_type": "code",
   "execution_count": 178,
   "id": "75d058d1-3359-4df4-8cf5-a007c76edf59",
   "metadata": {},
   "outputs": [],
   "source": [
    "flipkart_url = \"https://www.flipkart.com/search?q=\" + \"poco\""
   ]
  },
  {
   "cell_type": "code",
   "execution_count": 179,
   "id": "aa8f5a03-6640-4946-b45c-17496160c8ff",
   "metadata": {},
   "outputs": [
    {
     "data": {
      "text/plain": [
       "'https://www.flipkart.com/search?q=poco'"
      ]
     },
     "execution_count": 179,
     "metadata": {},
     "output_type": "execute_result"
    }
   ],
   "source": [
    "flipkart_url"
   ]
  },
  {
   "cell_type": "code",
   "execution_count": 180,
   "id": "a8fd2fca-0a38-44a7-9884-2eb6c2966a60",
   "metadata": {},
   "outputs": [],
   "source": [
    "url_client = urlopen(flipkart_url)"
   ]
  },
  {
   "cell_type": "code",
   "execution_count": 181,
   "id": "f76ea9a7-b83d-4554-98eb-a08e9151f04f",
   "metadata": {},
   "outputs": [],
   "source": [
    "flipkart_page = url_client.read()"
   ]
  },
  {
   "cell_type": "code",
   "execution_count": 182,
   "id": "c81a7232-4ade-4c3b-a661-3acdc64fcd0d",
   "metadata": {},
   "outputs": [],
   "source": [
    "flipkart_html = bs(flipkart_page,'html.parser')"
   ]
  },
  {
   "cell_type": "code",
   "execution_count": 183,
   "id": "f1dccc8a-c3ed-40c5-9869-c288a3cca813",
   "metadata": {},
   "outputs": [
    {
     "data": {
      "text/plain": [
       "'https://www.flipkart.com/apple-iphone-11-white-64-gb/p/itmfc6a7091eb20b?pid=MOBFWQ6BVWVEH3XE&amp;lid=LSTMOBFWQ6BVWVEH3XEMXQMLO&amp;marketplace=FLIPKART&amp;q=iphone+11&amp;store=tyy%2F4io&amp;srno=s_1_1&amp;otracker=AS_Query_HistoryAutoSuggest_1_6_na_na_na&amp;otracker1=AS_Query_HistoryAutoSuggest_1_6_na_na_na&amp;fm=organic&amp;iid=c67eb927-0a0b-4025-86bb-9ef0a94e89aa.MOBFWQ6BVWVEH3XE.SEARCH&amp;ppt=hp&amp;ppn=homepage&amp;ssid=bo7who5rio0000001688565760747&amp;qH=f6cdfdaa9f3c23f3'"
      ]
     },
     "execution_count": 183,
     "metadata": {},
     "output_type": "execute_result"
    }
   ],
   "source": [
    "\"https://www.flipkart.com\"+\"/apple-iphone-11-white-64-gb/p/itmfc6a7091eb20b?pid=MOBFWQ6BVWVEH3XE&amp;lid=LSTMOBFWQ6BVWVEH3XEMXQMLO&amp;marketplace=FLIPKART&amp;q=iphone+11&amp;store=tyy%2F4io&amp;srno=s_1_1&amp;otracker=AS_Query_HistoryAutoSuggest_1_6_na_na_na&amp;otracker1=AS_Query_HistoryAutoSuggest_1_6_na_na_na&amp;fm=organic&amp;iid=c67eb927-0a0b-4025-86bb-9ef0a94e89aa.MOBFWQ6BVWVEH3XE.SEARCH&amp;ppt=hp&amp;ppn=homepage&amp;ssid=bo7who5rio0000001688565760747&amp;qH=f6cdfdaa9f3c23f3\""
   ]
  },
  {
   "cell_type": "code",
   "execution_count": 184,
   "id": "8282c2be-90e0-4a85-9d12-abb5e8f3eaca",
   "metadata": {},
   "outputs": [],
   "source": [
    "bigbox = flipkart_html.find_all(\"div\",{\"class\": \"_1AtVbE col-12-12\"})"
   ]
  },
  {
   "cell_type": "code",
   "execution_count": 185,
   "id": "2dd83d0c-7d71-4804-9189-cc376f500899",
   "metadata": {},
   "outputs": [
    {
     "data": {
      "text/plain": [
       "30"
      ]
     },
     "execution_count": 185,
     "metadata": {},
     "output_type": "execute_result"
    }
   ],
   "source": [
    "len(bigbox)"
   ]
  },
  {
   "cell_type": "code",
   "execution_count": 186,
   "id": "1812c1c6-0fe9-471e-a85a-2c2f6074c5f7",
   "metadata": {},
   "outputs": [],
   "source": [
    "del bigbox[0-3]"
   ]
  },
  {
   "cell_type": "code",
   "execution_count": 187,
   "id": "26c004e1-8ff6-4bec-abdb-d4da698cef92",
   "metadata": {},
   "outputs": [],
   "source": [
    "product_link = \"https://www.flipkart.com\" + bigbox[5].div.div.div.a[\"href\"]"
   ]
  },
  {
   "cell_type": "code",
   "execution_count": 188,
   "id": "57d698f3-b70b-42e2-94e1-c4efd253c9ad",
   "metadata": {},
   "outputs": [
    {
     "data": {
      "text/plain": [
       "<Response [200]>"
      ]
     },
     "execution_count": 188,
     "metadata": {},
     "output_type": "execute_result"
    }
   ],
   "source": [
    "requests.get(product_link)"
   ]
  },
  {
   "cell_type": "code",
   "execution_count": 189,
   "id": "cffdbad8-6328-4f0a-9a97-364b2e2a63c3",
   "metadata": {},
   "outputs": [],
   "source": [
    "product_Req = requests.get(product_link)"
   ]
  },
  {
   "cell_type": "code",
   "execution_count": 190,
   "id": "3b779061-a6a8-4cdc-979c-fc60bce5a3de",
   "metadata": {},
   "outputs": [],
   "source": [
    "product_html =bs(product_Req.text, 'html.parser')"
   ]
  },
  {
   "cell_type": "code",
   "execution_count": 191,
   "id": "03ca4476-02b7-4046-b0ac-f22d48a0cd3b",
   "metadata": {},
   "outputs": [],
   "source": [
    "comment_box = product_html.find_all(\"div\", {\"class\": \"_16PBlm\"})"
   ]
  },
  {
   "cell_type": "code",
   "execution_count": 192,
   "id": "fce7072b-cf34-4afa-bedc-13b95df7d6fe",
   "metadata": {},
   "outputs": [
    {
     "data": {
      "text/plain": [
       "11"
      ]
     },
     "execution_count": 192,
     "metadata": {},
     "output_type": "execute_result"
    }
   ],
   "source": [
    "len(comment_box)"
   ]
  },
  {
   "cell_type": "code",
   "execution_count": 193,
   "id": "a3e6c392-3170-4aaf-8b34-e830ec917466",
   "metadata": {},
   "outputs": [
    {
     "data": {
      "text/plain": [
       "'Flipkart Customer'"
      ]
     },
     "execution_count": 193,
     "metadata": {},
     "output_type": "execute_result"
    }
   ],
   "source": [
    "comment_box[4].div.div.find_all('p',{\"class\": \"_2sc7ZR _2V5EHH\"})[0].text"
   ]
  },
  {
   "cell_type": "code",
   "execution_count": 194,
   "id": "45493175-023e-43ae-97e7-6b87fc991f0a",
   "metadata": {},
   "outputs": [
    {
     "name": "stdout",
     "output_type": "stream",
     "text": [
      "Sumit Solanki\n",
      "Soumyadeep Kundu\n",
      "Subhadeep Paul\n",
      "Rameshwar kumar  Sahu\n",
      "Flipkart Customer\n",
      "Parimal Mondal\n",
      "Flipkart Customer\n",
      "Srijan  Rathore\n",
      "Jibrail  Alam\n",
      "Subham Sing\n"
     ]
    },
    {
     "ename": "AttributeError",
     "evalue": "'NoneType' object has no attribute 'div'",
     "output_type": "error",
     "traceback": [
      "\u001b[0;31m---------------------------------------------------------------------------\u001b[0m",
      "\u001b[0;31mAttributeError\u001b[0m                            Traceback (most recent call last)",
      "Cell \u001b[0;32mIn[194], line 2\u001b[0m\n\u001b[1;32m      1\u001b[0m \u001b[38;5;28;01mfor\u001b[39;00m i \u001b[38;5;129;01min\u001b[39;00m comment_box:\n\u001b[0;32m----> 2\u001b[0m     \u001b[38;5;28mprint\u001b[39m(\u001b[43mi\u001b[49m\u001b[38;5;241;43m.\u001b[39;49m\u001b[43mdiv\u001b[49m\u001b[38;5;241;43m.\u001b[39;49m\u001b[43mdiv\u001b[49m\u001b[38;5;241m.\u001b[39mfind_all(\u001b[38;5;124m'\u001b[39m\u001b[38;5;124mp\u001b[39m\u001b[38;5;124m'\u001b[39m,{\u001b[38;5;124m\"\u001b[39m\u001b[38;5;124mclass\u001b[39m\u001b[38;5;124m\"\u001b[39m: \u001b[38;5;124m\"\u001b[39m\u001b[38;5;124m_2sc7ZR _2V5EHH\u001b[39m\u001b[38;5;124m\"\u001b[39m})[\u001b[38;5;241m0\u001b[39m]\u001b[38;5;241m.\u001b[39mtext)\n",
      "\u001b[0;31mAttributeError\u001b[0m: 'NoneType' object has no attribute 'div'"
     ]
    }
   ],
   "source": [
    "for i in comment_box:\n",
    "    print(i.div.div.find_all('p',{\"class\": \"_2sc7ZR _2V5EHH\"})[0].text)\n",
    "    "
   ]
  },
  {
   "cell_type": "code",
   "execution_count": 195,
   "id": "1524575c-a388-4bd8-be4e-554077a9932e",
   "metadata": {},
   "outputs": [
    {
     "data": {
      "text/plain": [
       "'5'"
      ]
     },
     "execution_count": 195,
     "metadata": {},
     "output_type": "execute_result"
    }
   ],
   "source": [
    "comment_box[0].div.div.div.div.text"
   ]
  },
  {
   "cell_type": "code",
   "execution_count": 196,
   "id": "64d6d41f-6821-4a1d-aa90-2210ff5f2369",
   "metadata": {},
   "outputs": [
    {
     "name": "stdout",
     "output_type": "stream",
     "text": [
      "5\n",
      "5\n",
      "4\n",
      "5\n",
      "4\n",
      "5\n",
      "5\n",
      "4\n",
      "5\n",
      "4\n"
     ]
    },
    {
     "ename": "AttributeError",
     "evalue": "'NoneType' object has no attribute 'div'",
     "output_type": "error",
     "traceback": [
      "\u001b[0;31m---------------------------------------------------------------------------\u001b[0m",
      "\u001b[0;31mAttributeError\u001b[0m                            Traceback (most recent call last)",
      "Cell \u001b[0;32mIn[196], line 2\u001b[0m\n\u001b[1;32m      1\u001b[0m \u001b[38;5;28;01mfor\u001b[39;00m i \u001b[38;5;129;01min\u001b[39;00m comment_box:\n\u001b[0;32m----> 2\u001b[0m     \u001b[38;5;28mprint\u001b[39m(\u001b[43mi\u001b[49m\u001b[38;5;241;43m.\u001b[39;49m\u001b[43mdiv\u001b[49m\u001b[38;5;241;43m.\u001b[39;49m\u001b[43mdiv\u001b[49m\u001b[38;5;241m.\u001b[39mdiv\u001b[38;5;241m.\u001b[39mdiv\u001b[38;5;241m.\u001b[39mtext)\n",
      "\u001b[0;31mAttributeError\u001b[0m: 'NoneType' object has no attribute 'div'"
     ]
    }
   ],
   "source": [
    "for i in comment_box:\n",
    "    print(i.div.div.div.div.text)"
   ]
  },
  {
   "cell_type": "code",
   "execution_count": null,
   "id": "f1874bc9-a667-4381-9402-79a0b6619375",
   "metadata": {},
   "outputs": [],
   "source": []
  },
  {
   "cell_type": "code",
   "execution_count": 197,
   "id": "5f735dcf-726a-489e-a54b-64039716e7a7",
   "metadata": {},
   "outputs": [
    {
     "data": {
      "text/plain": [
       "'Classy product'"
      ]
     },
     "execution_count": 197,
     "metadata": {},
     "output_type": "execute_result"
    }
   ],
   "source": [
    "comment_box[0].div.div.div.p.text"
   ]
  },
  {
   "cell_type": "code",
   "execution_count": 198,
   "id": "07c3a947-0776-4d1a-ad66-0f484afb3123",
   "metadata": {},
   "outputs": [
    {
     "name": "stdout",
     "output_type": "stream",
     "text": [
      "Classy product\n",
      "Must buy!\n",
      "Very Good\n",
      "Fabulous!\n",
      "Pretty good\n",
      "Classy product\n",
      "Wonderful\n",
      "Good quality product\n",
      "Terrific purchase\n",
      "Pretty good\n"
     ]
    },
    {
     "ename": "AttributeError",
     "evalue": "'NoneType' object has no attribute 'div'",
     "output_type": "error",
     "traceback": [
      "\u001b[0;31m---------------------------------------------------------------------------\u001b[0m",
      "\u001b[0;31mAttributeError\u001b[0m                            Traceback (most recent call last)",
      "Cell \u001b[0;32mIn[198], line 2\u001b[0m\n\u001b[1;32m      1\u001b[0m \u001b[38;5;28;01mfor\u001b[39;00m i \u001b[38;5;129;01min\u001b[39;00m comment_box:\n\u001b[0;32m----> 2\u001b[0m     \u001b[38;5;28mprint\u001b[39m(\u001b[43mi\u001b[49m\u001b[38;5;241;43m.\u001b[39;49m\u001b[43mdiv\u001b[49m\u001b[38;5;241;43m.\u001b[39;49m\u001b[43mdiv\u001b[49m\u001b[38;5;241m.\u001b[39mdiv\u001b[38;5;241m.\u001b[39mp\u001b[38;5;241m.\u001b[39mtext)\n",
      "\u001b[0;31mAttributeError\u001b[0m: 'NoneType' object has no attribute 'div'"
     ]
    }
   ],
   "source": [
    "for i in comment_box:\n",
    "    print(i.div.div.div.p.text)"
   ]
  },
  {
   "cell_type": "code",
   "execution_count": 199,
   "id": "d0ff1db5-d155-4ed0-871d-530ea2c410f1",
   "metadata": {},
   "outputs": [
    {
     "data": {
      "text/plain": [
       "\"Initial impressions:- First up all at this price range it's really good value for money products 👌  I purchased it for my mom so she doesn't know much about android phone so not big expectations from her end regarding performance and etc... Thats why it' may be a decent choice .Pros* 1- Camera is decent 2- 5000 MAH Battery also good3- Display is decent 4- Sound quality is also good5- Look and design realy impressive. 6- processor is decent 7- stock android go edition with MIUI ...\""
      ]
     },
     "execution_count": 199,
     "metadata": {},
     "output_type": "execute_result"
    }
   ],
   "source": [
    "comment_box[0].div.div.find_all('div',{'class':\"\"})[0].div.text"
   ]
  },
  {
   "cell_type": "code",
   "execution_count": 200,
   "id": "17f960e8-c9ba-45a7-9a99-06800379d423",
   "metadata": {},
   "outputs": [
    {
     "name": "stdout",
     "output_type": "stream",
     "text": [
      "Initial impressions:- First up all at this price range it's really good value for money products 👌  I purchased it for my mom so she doesn't know much about android phone so not big expectations from her end regarding performance and etc... Thats why it' may be a decent choice .Pros* 1- Camera is decent 2- 5000 MAH Battery also good3- Display is decent 4- Sound quality is also good5- Look and design realy impressive. 6- processor is decent 7- stock android go edition with MIUI ...\n",
      "Phone is Best Value for money phone from poco THANKS To Flipkart I Purchased For my dad and my dad is satisfied 🤩 Great Features 5000mah battery backup is awesome\n",
      "Very good quality smart phone.The Smart have fingerprint sensor. But this phone is little bit of lagging when the network not coming properly. Otherwise totally good. I am very happy to buy this phone. In the proper for network it will be performed flawlessly.\n",
      "Nice phone\n",
      "Good product with good price...although front camera is ok while back camera is good..battery life is super.\n",
      "Very good product ❤️👍\n",
      "Super\n",
      "It's average mobile but nice 👍\n",
      "Good product 👍\n",
      "Its good in this price rage...... stock andriod experience...❤️\n"
     ]
    },
    {
     "ename": "AttributeError",
     "evalue": "'NoneType' object has no attribute 'div'",
     "output_type": "error",
     "traceback": [
      "\u001b[0;31m---------------------------------------------------------------------------\u001b[0m",
      "\u001b[0;31mAttributeError\u001b[0m                            Traceback (most recent call last)",
      "Cell \u001b[0;32mIn[200], line 2\u001b[0m\n\u001b[1;32m      1\u001b[0m \u001b[38;5;28;01mfor\u001b[39;00m i \u001b[38;5;129;01min\u001b[39;00m comment_box:\n\u001b[0;32m----> 2\u001b[0m     \u001b[38;5;28mprint\u001b[39m(\u001b[43mi\u001b[49m\u001b[38;5;241;43m.\u001b[39;49m\u001b[43mdiv\u001b[49m\u001b[38;5;241;43m.\u001b[39;49m\u001b[43mdiv\u001b[49m\u001b[38;5;241m.\u001b[39mfind_all(\u001b[38;5;124m'\u001b[39m\u001b[38;5;124mdiv\u001b[39m\u001b[38;5;124m'\u001b[39m,{\u001b[38;5;124m'\u001b[39m\u001b[38;5;124mclass\u001b[39m\u001b[38;5;124m'\u001b[39m:\u001b[38;5;124m\"\u001b[39m\u001b[38;5;124m\"\u001b[39m})[\u001b[38;5;241m0\u001b[39m]\u001b[38;5;241m.\u001b[39mdiv\u001b[38;5;241m.\u001b[39mtext)\n",
      "\u001b[0;31mAttributeError\u001b[0m: 'NoneType' object has no attribute 'div'"
     ]
    }
   ],
   "source": [
    "for i in comment_box:\n",
    "    print(i.div.div.find_all('div',{'class':\"\"})[0].div.text)"
   ]
  },
  {
   "cell_type": "code",
   "execution_count": null,
   "id": "d40732aa-b698-49fb-bf5f-ac4c1df8d7a0",
   "metadata": {},
   "outputs": [],
   "source": []
  },
  {
   "cell_type": "code",
   "execution_count": null,
   "id": "a44bf39f-0b45-4cd4-8f9a-4aab64427193",
   "metadata": {},
   "outputs": [],
   "source": []
  },
  {
   "cell_type": "code",
   "execution_count": null,
   "id": "17b977aa-2ea2-43b3-9755-e4b1ba09f84e",
   "metadata": {},
   "outputs": [],
   "source": []
  },
  {
   "cell_type": "code",
   "execution_count": null,
   "id": "3b58d67d-63ff-463d-b135-0b8fa229fdfa",
   "metadata": {},
   "outputs": [],
   "source": []
  },
  {
   "cell_type": "code",
   "execution_count": 158,
   "id": "9d017dc9-ed44-49a1-8ff7-914dc2c54980",
   "metadata": {},
   "outputs": [
    {
     "ename": "TypeError",
     "evalue": "'NoneType' object is not subscriptable",
     "output_type": "error",
     "traceback": [
      "\u001b[0;31m---------------------------------------------------------------------------\u001b[0m",
      "\u001b[0;31mTypeError\u001b[0m                                 Traceback (most recent call last)",
      "Cell \u001b[0;32mIn[158], line 2\u001b[0m\n\u001b[1;32m      1\u001b[0m \u001b[38;5;28;01mfor\u001b[39;00m i \u001b[38;5;129;01min\u001b[39;00m bigbox:\n\u001b[0;32m----> 2\u001b[0m     logging\u001b[38;5;241m.\u001b[39minfo(\u001b[38;5;124m\"\u001b[39m\u001b[38;5;124mhttps://www.flipkart.com\u001b[39m\u001b[38;5;124m\"\u001b[39m \u001b[38;5;241m+\u001b[39m\u001b[43mi\u001b[49m\u001b[38;5;241;43m.\u001b[39;49m\u001b[43mdiv\u001b[49m\u001b[38;5;241;43m.\u001b[39;49m\u001b[43mdiv\u001b[49m\u001b[38;5;241;43m.\u001b[39;49m\u001b[43mdiv\u001b[49m\u001b[38;5;241;43m.\u001b[39;49m\u001b[43ma\u001b[49m\u001b[43m[\u001b[49m\u001b[38;5;124;43m\"\u001b[39;49m\u001b[38;5;124;43mhref\u001b[39;49m\u001b[38;5;124;43m\"\u001b[39;49m\u001b[43m]\u001b[49m)\n",
      "\u001b[0;31mTypeError\u001b[0m: 'NoneType' object is not subscriptable"
     ]
    }
   ],
   "source": [
    "for i in bigbox:\n",
    "    logging.info(\"https://www.flipkart.com\" +i.div.div.div.a[\"href\"])"
   ]
  },
  {
   "cell_type": "code",
   "execution_count": null,
   "id": "3e46144c-792c-4950-acbd-7b07c2bb1d64",
   "metadata": {},
   "outputs": [],
   "source": []
  },
  {
   "cell_type": "code",
   "execution_count": null,
   "id": "4bceb1e8-014d-4626-8eeb-9783b71acc29",
   "metadata": {},
   "outputs": [],
   "source": []
  }
 ],
 "metadata": {
  "kernelspec": {
   "display_name": "Python 3 (ipykernel)",
   "language": "python",
   "name": "python3"
  },
  "language_info": {
   "codemirror_mode": {
    "name": "ipython",
    "version": 3
   },
   "file_extension": ".py",
   "mimetype": "text/x-python",
   "name": "python",
   "nbconvert_exporter": "python",
   "pygments_lexer": "ipython3",
   "version": "3.10.8"
  }
 },
 "nbformat": 4,
 "nbformat_minor": 5
}
